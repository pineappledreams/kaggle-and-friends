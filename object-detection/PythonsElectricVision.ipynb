{
 "cells": [
  {
   "cell_type": "markdown",
   "metadata": {},
   "source": [
    "# Do Pythons Dream of Electronic Vision?\n",
    "\n",
    "This is my first look into the field of Electric Vision.  \n",
    "My boss told me the next project we might go into will be about image tracking, so  \n",
    "in order to pull through and GET THE MONEY I will look into image detection...\n",
    "\n",
    "In Python!\n",
    "\n",
    "## WHAT WE NEED TO DO\n",
    "\n",
    "0. Download and install the things.  \n",
    "    We have already downloaded the test set, so that's OK.\n",
    "    Next up is downloading the packages we will be needing for doing the predictions.   \n",
    "    \n",
    "1. Make a hello world of image detection.  \n",
    "    This means literally it needs to find the files, do some analysis, and push out a result.  \n",
    "    It doesn't have to be good or accurate or anything, but at least show that it \"sees\" something, and pushes out a guess.  \n",
    "\n",
    "2. Push out a Kaggle submission.\n",
    "    \n",
    "3. Update.\n",
    "\n",
    "## Schedule\n",
    "\n",
    "2019/06/06 Start of Competition.  \n",
    "\n",
    "2019/07/01 First submission.  \n",
    "\n",
    "2019/09/25 Final deadline.  \n"
   ]
  }
 ],
 "metadata": {
  "kernelspec": {
   "display_name": "Python 3",
   "language": "python",
   "name": "python3"
  },
  "language_info": {
   "codemirror_mode": {
    "name": "ipython",
    "version": 3
   },
   "file_extension": ".py",
   "mimetype": "text/x-python",
   "name": "python",
   "nbconvert_exporter": "python",
   "pygments_lexer": "ipython3",
   "version": "3.7.2"
  }
 },
 "nbformat": 4,
 "nbformat_minor": 2
}
